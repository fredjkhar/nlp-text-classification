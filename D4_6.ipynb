{
  "cells": [
    {
      "cell_type": "markdown",
      "metadata": {
        "id": "yn2gFUa4LwNA"
      },
      "source": [
        "### Assignment 4 - EMPIRICAL TEXT CLASSIFICATION STUDY: DL and NLP\n"
      ]
    },
    {
      "cell_type": "markdown",
      "metadata": {
        "id": "jxH_droHLwNC"
      },
      "source": [
        "The objective of this task is to use NLP techniques to classify textual data. spaCy, an open-source NLP library for Python, will be utilised to process the text before passing it to the classification models - Logistic Regression (LR) and Multi-layer Perceptron (MLP).\n"
      ]
    },
    {
      "cell_type": "code",
      "execution_count": null,
      "metadata": {
        "id": "80yyWig4LwND"
      },
      "outputs": [],
      "source": [
        "import spacy\n",
        "import pandas as pd"
      ]
    },
    {
      "cell_type": "markdown",
      "metadata": {
        "id": "QL4jTwvnLwND"
      },
      "source": [
        "The chosen dataset for textual classification is the **Airline Passenger Reviews**, consisting of 10761 rows of text and their respective Net Promoter Score (NPS). The NPS categorises customers' inclination to recommend a company's services as Promoters, Passives, or Detractors.\n",
        "\n",
        "The dataset is available for download or visualization at https://raw.githubusercontent.com/baharin/CSI4106-Assignment4-Datasets/main/reduced_file_AirPassengerReviews.csv, with courtesy from Baharin (TA for CSI4106).\n",
        "Another option for obtaining the dataset is through https://github.com/fredjkhar/nlp-text-classification/blob/main/data/reduced_file_AirPassengerReviews.csv."
      ]
    },
    {
      "cell_type": "code",
      "execution_count": null,
      "metadata": {
        "id": "C4V63sBtLwNE"
      },
      "outputs": [],
      "source": [
        "url = \"https://raw.githubusercontent.com/fredjkhar/nlp-text-classification/main/data/reduced_file_AirPassengerReviews.csv\""
      ]
    },
    {
      "cell_type": "code",
      "execution_count": null,
      "metadata": {
        "id": "MDp77ufKLwNE",
        "outputId": "2ff85597-a4f9-4f9e-ba56-db19b62cb1e5"
      },
      "outputs": [
        {
          "data": {
            "text/html": [
              "<div>\n",
              "<style scoped>\n",
              "    .dataframe tbody tr th:only-of-type {\n",
              "        vertical-align: middle;\n",
              "    }\n",
              "\n",
              "    .dataframe tbody tr th {\n",
              "        vertical-align: top;\n",
              "    }\n",
              "\n",
              "    .dataframe thead th {\n",
              "        text-align: right;\n",
              "    }\n",
              "</style>\n",
              "<table border=\"1\" class=\"dataframe\">\n",
              "  <thead>\n",
              "    <tr style=\"text-align: right;\">\n",
              "      <th></th>\n",
              "      <th>customer_review</th>\n",
              "      <th>NPS Score</th>\n",
              "    </tr>\n",
              "  </thead>\n",
              "  <tbody>\n",
              "    <tr>\n",
              "      <th>0</th>\n",
              "      <td>London to Izmir via Istanbul. First time I'd flown TK. I found them very good in the air, cabin crew, planes, food, all very nice. Not so great on the ground, ground staff, call centre, computer systems. My flight from LHR was delayed so I missed the connection in Istanbul. Most ground staff don't speak English, and I was given contradictory instructions from those that could speak a little English. I eventually got on a flight to Izmir three hours later, but it wasn't an easy process, made worse by the vast distances one has to walk between gates in the cavernous new airport. Also, I'd phoned a TK call centre (based in Ukraine) to pay an extra Â£40 or so each way for extra leg room seats. However, as the departure times kept changing, my seats kept changing, and for the return leg to London from Istanbul I was not given an extra leg room seat. Luckily there was a spare exit row seat and the cabin crew sorted me out. Overall, I think their cabin crew and planes are very good, ground staff and call centre staff need better training and they all need better computer systems and software to work with.</td>\n",
              "      <td>Passive</td>\n",
              "    </tr>\n",
              "    <tr>\n",
              "      <th>1</th>\n",
              "      <td>Istanbul to Bucharest. We make our check in in the airport, they Take our luggage , we go to the gate and at the gate surprise they dont let uÈ™ board with two children, because they say the flight is overbooked. We had to wait in the airport with two children until 5 oclock in the morning until they bring uÈ™ to a hotel 2 hours far away from the airport without luggage, without eat without nothing. Our first and last flight with this airline.</td>\n",
              "      <td>Detractor</td>\n",
              "    </tr>\n",
              "    <tr>\n",
              "      <th>2</th>\n",
              "      <td>Rome to Prishtina via Istanbul. I flew with this company several times in the past years, and I can honestly say that it is getting worse and worse. I flew from Rome to Prishtina via Istanbul, all 4 flights had a delay (which apparently is pretty normal with Turkish). The ground staff is for the most part useless. In Istambul i have tried to ask a few information about a flight delay (i had just 30 minutes before the connecting flight) and the whole answer was: \"Relax Sir, No problem Sir, It's okay\". The new airport is a gigantic mess, very big and disorganized. When you land in Istanbul it takes about 20 to 25 minutes taxiing and other 10 minutes before they actually start disembarking, it's an exhausting experience especially if you are in a hurry. Forget about asking for some indication at the new airport, they all chat between each other, some with a coffee in their hands. I flew with four different aircraft on this trip, two were fairly new, the other two were old, seats worn. Food on board was of very poor quality.., let me repeat this, very...poor quality. In general i can say that crew is decently trained and deliver a good experience or at least they try, of course it is far from the experience you get flying Qatar or Emirates but still pretty good, while ground personnel, especially in Istanbul is the personification of the word Lazy. A complete disaster. I will try and avoid Turkish Airlines in the future, it is not a cheap company and definitely not worth for the money you pay. If you are in a hurry or you know you will be avoid this company and avoid the new istanbul airport at all costs.</td>\n",
              "      <td>Detractor</td>\n",
              "    </tr>\n",
              "    <tr>\n",
              "      <th>3</th>\n",
              "      <td>Flew on Turkish Airlines IAD-IST-KHI and return KHI-IST-IAD. Turkish Airlines has consistently maintained its quality since I first flew with them in 2007. The flights leave on time, the catering is excellent, the inflight entertainment is extensive and the interface easy to use, and the cabin crew is excellent. Interesting though the A330 on the KHI-IST route and return seemed to have more leg room and was newer than the A330 on the IAD-IST route which was showing its age. The A330 on the IAD-IST route had a slow responding interface for the inflight entertainment and a broken table on the return flight. But Turkish Airlines will be replacing the A330 on its flight to IAD with the 787 sometime in the summer. Turkish food was served on the return leg which I personally like, and I saw the cabin staff helping elderly passengers walk to the lavatory which was nice. Overall another wonderful experience with Turkish Airlines.</td>\n",
              "      <td>Promoter</td>\n",
              "    </tr>\n",
              "    <tr>\n",
              "      <th>4</th>\n",
              "      <td>Mumbai to Dublin via Istanbul. Never book Turkish airlines if you are traveling to Dublin from Mumbai. If the flight gets delay from Mumbai, they don't have any other options for you. They will straight forward ask you to stay in hotel in Istanbul. They do not care for any for your time loss. No decisions has been made from airlines crew within time. They kept me waiting for more than 3 hours.</td>\n",
              "      <td>Detractor</td>\n",
              "    </tr>\n",
              "  </tbody>\n",
              "</table>\n",
              "</div>"
            ],
            "text/plain": [
              "                                                                                                                                                                                                                                                                                                                                                                                                                                                                                                                                                                                                                                                                                                                                                                                                                                                                                                                                                                                                                                                                                                                                                                                                                                                                                                                                                                                                                                                                                                                                                                                                                                                                                 customer_review  \\\n",
              "0                                                                                                                                                                                                                                                                                                                                                                                                                                                                                                                                    London to Izmir via Istanbul. First time I'd flown TK. I found them very good in the air, cabin crew, planes, food, all very nice. Not so great on the ground, ground staff, call centre, computer systems. My flight from LHR was delayed so I missed the connection in Istanbul. Most ground staff don't speak English, and I was given contradictory instructions from those that could speak a little English. I eventually got on a flight to Izmir three hours later, but it wasn't an easy process, made worse by the vast distances one has to walk between gates in the cavernous new airport. Also, I'd phoned a TK call centre (based in Ukraine) to pay an extra Â£40 or so each way for extra leg room seats. However, as the departure times kept changing, my seats kept changing, and for the return leg to London from Istanbul I was not given an extra leg room seat. Luckily there was a spare exit row seat and the cabin crew sorted me out. Overall, I think their cabin crew and planes are very good, ground staff and call centre staff need better training and they all need better computer systems and software to work with.   \n",
              "1                                                                                                                                                                                                                                                                                                                                                                                                                                                                                                                                                                                                                                                                                                                                                                                                                                                                                                                                                                                                                                                                                                                                                                                                                                Istanbul to Bucharest. We make our check in in the airport, they Take our luggage , we go to the gate and at the gate surprise they dont let uÈ™ board with two children, because they say the flight is overbooked. We had to wait in the airport with two children until 5 oclock in the morning until they bring uÈ™ to a hotel 2 hours far away from the airport without luggage, without eat without nothing. Our first and last flight with this airline.   \n",
              "2   Rome to Prishtina via Istanbul. I flew with this company several times in the past years, and I can honestly say that it is getting worse and worse. I flew from Rome to Prishtina via Istanbul, all 4 flights had a delay (which apparently is pretty normal with Turkish). The ground staff is for the most part useless. In Istambul i have tried to ask a few information about a flight delay (i had just 30 minutes before the connecting flight) and the whole answer was: \"Relax Sir, No problem Sir, It's okay\". The new airport is a gigantic mess, very big and disorganized. When you land in Istanbul it takes about 20 to 25 minutes taxiing and other 10 minutes before they actually start disembarking, it's an exhausting experience especially if you are in a hurry. Forget about asking for some indication at the new airport, they all chat between each other, some with a coffee in their hands. I flew with four different aircraft on this trip, two were fairly new, the other two were old, seats worn. Food on board was of very poor quality.., let me repeat this, very...poor quality. In general i can say that crew is decently trained and deliver a good experience or at least they try, of course it is far from the experience you get flying Qatar or Emirates but still pretty good, while ground personnel, especially in Istanbul is the personification of the word Lazy. A complete disaster. I will try and avoid Turkish Airlines in the future, it is not a cheap company and definitely not worth for the money you pay. If you are in a hurry or you know you will be avoid this company and avoid the new istanbul airport at all costs.   \n",
              "3                                                                                                                                                                                                                                                                                                                                                                                                                                                                                                                                                                                                                                                                                                                        Flew on Turkish Airlines IAD-IST-KHI and return KHI-IST-IAD. Turkish Airlines has consistently maintained its quality since I first flew with them in 2007. The flights leave on time, the catering is excellent, the inflight entertainment is extensive and the interface easy to use, and the cabin crew is excellent. Interesting though the A330 on the KHI-IST route and return seemed to have more leg room and was newer than the A330 on the IAD-IST route which was showing its age. The A330 on the IAD-IST route had a slow responding interface for the inflight entertainment and a broken table on the return flight. But Turkish Airlines will be replacing the A330 on its flight to IAD with the 787 sometime in the summer. Turkish food was served on the return leg which I personally like, and I saw the cabin staff helping elderly passengers walk to the lavatory which was nice. Overall another wonderful experience with Turkish Airlines.   \n",
              "4                                                                                                                                                                                                                                                                                                                                                                                                                                                                                                                                                                                                                                                                                                                                                                                                                                                                                                                                                                                                                                                                                                                                                                                                                                                                                   Mumbai to Dublin via Istanbul. Never book Turkish airlines if you are traveling to Dublin from Mumbai. If the flight gets delay from Mumbai, they don't have any other options for you. They will straight forward ask you to stay in hotel in Istanbul. They do not care for any for your time loss. No decisions has been made from airlines crew within time. They kept me waiting for more than 3 hours.   \n",
              "\n",
              "   NPS Score  \n",
              "0    Passive  \n",
              "1  Detractor  \n",
              "2  Detractor  \n",
              "3   Promoter  \n",
              "4  Detractor  "
            ]
          },
          "execution_count": 64,
          "metadata": {},
          "output_type": "execute_result"
        }
      ],
      "source": [
        "#  REFERENCE [1] : https://stackoverflow.com/questions/25351968/how-can-i-display-full-non-truncated-dataframe-information-in-html-when-conver\n",
        "pd.set_option(\n",
        "    \"display.max_colwidth\", None\n",
        ")  # Display full rows content in dataframe .i.e no truncation\n",
        "dataset = pd.read_csv(url)\n",
        "\n",
        "dataset = dataset.dropna()\n",
        "\n",
        "\n",
        "dataset.head()"
      ]
    },
    {
      "cell_type": "markdown",
      "metadata": {
        "id": "FA5aFZZWLwNF"
      },
      "source": [
        "# 1. NLP Pipeline\n"
      ]
    },
    {
      "cell_type": "markdown",
      "metadata": {
        "id": "3o1jLe0KLwNF"
      },
      "source": [
        "### a. Tokenisation\n"
      ]
    },
    {
      "cell_type": "markdown",
      "metadata": {
        "id": "KTBkepmsLwNF"
      },
      "source": [
        "Our initial task involves the tokenization of textual data within the dataset, utilizing the spaCy model, en_core_web_sm. This process yields an additional column in the original dataset, which serves to contain the tokenized data.\n"
      ]
    },
    {
      "cell_type": "code",
      "execution_count": null,
      "metadata": {
        "id": "0IfXi1_sLwNF",
        "outputId": "5a7a6a58-28e2-43e3-be54-18d9ed6bbded"
      },
      "outputs": [
        {
          "data": {
            "text/html": [
              "<div>\n",
              "<style scoped>\n",
              "    .dataframe tbody tr th:only-of-type {\n",
              "        vertical-align: middle;\n",
              "    }\n",
              "\n",
              "    .dataframe tbody tr th {\n",
              "        vertical-align: top;\n",
              "    }\n",
              "\n",
              "    .dataframe thead th {\n",
              "        text-align: right;\n",
              "    }\n",
              "</style>\n",
              "<table border=\"1\" class=\"dataframe\">\n",
              "  <thead>\n",
              "    <tr style=\"text-align: right;\">\n",
              "      <th></th>\n",
              "      <th>customer_review</th>\n",
              "      <th>NPS Score</th>\n",
              "      <th>tokenized</th>\n",
              "    </tr>\n",
              "  </thead>\n",
              "  <tbody>\n",
              "    <tr>\n",
              "      <th>0</th>\n",
              "      <td>London to Izmir via Istanbul. First time I'd flown TK. I found them very good in the air, cabin crew, planes, food, all very nice. Not so great on the ground, ground staff, call centre, computer systems. My flight from LHR was delayed so I missed the connection in Istanbul. Most ground staff don't speak English, and I was given contradictory instructions from those that could speak a little English. I eventually got on a flight to Izmir three hours later, but it wasn't an easy process, made worse by the vast distances one has to walk between gates in the cavernous new airport. Also, I'd phoned a TK call centre (based in Ukraine) to pay an extra Â£40 or so each way for extra leg room seats. However, as the departure times kept changing, my seats kept changing, and for the return leg to London from Istanbul I was not given an extra leg room seat. Luckily there was a spare exit row seat and the cabin crew sorted me out. Overall, I think their cabin crew and planes are very good, ground staff and call centre staff need better training and they all need better computer systems and software to work with.</td>\n",
              "      <td>Passive</td>\n",
              "      <td>( , London, to, Izmir, via, Istanbul, ., First, time, I, 'd, flown, TK, ., I, found, them, very, good, in, the, air, ,, cabin, crew, ,, planes, ,, food, ,, all, very, nice, ., Not, so, great, on, the, ground, ,, ground, staff, ,, call, centre, ,, computer, systems, ., My, flight, from, LHR, was, delayed, so, I, missed, the, connection, in, Istanbul, ., Most, ground, staff, do, n't, speak, English, ,, and, I, was, given, contradictory, instructions, from, those, that, could, speak, a, little, English, ., I, eventually, got, on, a, flight, to, Izmir, three, hours, later, ,, but, ...)</td>\n",
              "    </tr>\n",
              "    <tr>\n",
              "      <th>1</th>\n",
              "      <td>Istanbul to Bucharest. We make our check in in the airport, they Take our luggage , we go to the gate and at the gate surprise they dont let uÈ™ board with two children, because they say the flight is overbooked. We had to wait in the airport with two children until 5 oclock in the morning until they bring uÈ™ to a hotel 2 hours far away from the airport without luggage, without eat without nothing. Our first and last flight with this airline.</td>\n",
              "      <td>Detractor</td>\n",
              "      <td>( , Istanbul, to, Bucharest, ., We, make, our, check, in, in, the, airport, ,, they, Take, our, luggage, ,, we, go, to, the, gate, and, at, the, gate, surprise, they, do, nt, let, uÈ, ™, board, with, two, children, ,, because, they, say, the, flight, is, overbooked, ., We, had, to, wait, in, the, airport, with, two, children, until, 5, oclock, in, the, morning, until, they, bring, uÈ, ™, to, a, hotel, 2, hours, far, away, from, the, airport, without, luggage, ,, without, eat, without, nothing, ., Our, first, and, last, flight, with, this, airline, .)</td>\n",
              "    </tr>\n",
              "    <tr>\n",
              "      <th>2</th>\n",
              "      <td>Rome to Prishtina via Istanbul. I flew with this company several times in the past years, and I can honestly say that it is getting worse and worse. I flew from Rome to Prishtina via Istanbul, all 4 flights had a delay (which apparently is pretty normal with Turkish). The ground staff is for the most part useless. In Istambul i have tried to ask a few information about a flight delay (i had just 30 minutes before the connecting flight) and the whole answer was: \"Relax Sir, No problem Sir, It's okay\". The new airport is a gigantic mess, very big and disorganized. When you land in Istanbul it takes about 20 to 25 minutes taxiing and other 10 minutes before they actually start disembarking, it's an exhausting experience especially if you are in a hurry. Forget about asking for some indication at the new airport, they all chat between each other, some with a coffee in their hands. I flew with four different aircraft on this trip, two were fairly new, the other two were old, seats worn. Food on board was of very poor quality.., let me repeat this, very...poor quality. In general i can say that crew is decently trained and deliver a good experience or at least they try, of course it is far from the experience you get flying Qatar or Emirates but still pretty good, while ground personnel, especially in Istanbul is the personification of the word Lazy. A complete disaster. I will try and avoid Turkish Airlines in the future, it is not a cheap company and definitely not worth for the money you pay. If you are in a hurry or you know you will be avoid this company and avoid the new istanbul airport at all costs.</td>\n",
              "      <td>Detractor</td>\n",
              "      <td>( , Rome, to, Prishtina, via, Istanbul, ., I, flew, with, this, company, several, times, in, the, past, years, ,, and, I, can, honestly, say, that, it, is, getting, worse, and, worse, ., I, flew, from, Rome, to, Prishtina, via, Istanbul, ,, all, 4, flights, had, a, delay, (, which, apparently, is, pretty, normal, with, Turkish, ), ., The, ground, staff, is, for, the, most, part, useless, ., In, Istambul, i, have, tried, to, ask, a, few, information, about, a, flight, delay, (, i, had, just, 30, minutes, before, the, connecting, flight, ), and, the, whole, answer, was, :, \", Relax, ...)</td>\n",
              "    </tr>\n",
              "    <tr>\n",
              "      <th>3</th>\n",
              "      <td>Flew on Turkish Airlines IAD-IST-KHI and return KHI-IST-IAD. Turkish Airlines has consistently maintained its quality since I first flew with them in 2007. The flights leave on time, the catering is excellent, the inflight entertainment is extensive and the interface easy to use, and the cabin crew is excellent. Interesting though the A330 on the KHI-IST route and return seemed to have more leg room and was newer than the A330 on the IAD-IST route which was showing its age. The A330 on the IAD-IST route had a slow responding interface for the inflight entertainment and a broken table on the return flight. But Turkish Airlines will be replacing the A330 on its flight to IAD with the 787 sometime in the summer. Turkish food was served on the return leg which I personally like, and I saw the cabin staff helping elderly passengers walk to the lavatory which was nice. Overall another wonderful experience with Turkish Airlines.</td>\n",
              "      <td>Promoter</td>\n",
              "      <td>( , Flew, on, Turkish, Airlines, IAD, -, IST, -, KHI, and, return, KHI, -, IST, -, IAD, ., Turkish, Airlines, has, consistently, maintained, its, quality, since, I, first, flew, with, them, in, 2007, ., The, flights, leave, on, time, ,, the, catering, is, excellent, ,, the, inflight, entertainment, is, extensive, and, the, interface, easy, to, use, ,, and, the, cabin, crew, is, excellent, ., Interesting, though, the, A330, on, the, KHI, -, IST, route, and, return, seemed, to, have, more, leg, room, and, was, newer, than, the, A330, on, the, IAD, -, IST, route, which, was, showing, its, age, ., ...)</td>\n",
              "    </tr>\n",
              "    <tr>\n",
              "      <th>4</th>\n",
              "      <td>Mumbai to Dublin via Istanbul. Never book Turkish airlines if you are traveling to Dublin from Mumbai. If the flight gets delay from Mumbai, they don't have any other options for you. They will straight forward ask you to stay in hotel in Istanbul. They do not care for any for your time loss. No decisions has been made from airlines crew within time. They kept me waiting for more than 3 hours.</td>\n",
              "      <td>Detractor</td>\n",
              "      <td>( , Mumbai, to, Dublin, via, Istanbul, ., Never, book, Turkish, airlines, if, you, are, traveling, to, Dublin, from, Mumbai, ., If, the, flight, gets, delay, from, Mumbai, ,, they, do, n't, have, any, other, options, for, you, ., They, will, straight, forward, ask, you, to, stay, in, hotel, in, Istanbul, ., They, do, not, care, for, any, for, your, time, loss, ., No, decisions, has, been, made, from, airlines, crew, within, time, ., They, kept, me, waiting, for, more, than, 3, hours, .)</td>\n",
              "    </tr>\n",
              "  </tbody>\n",
              "</table>\n",
              "</div>"
            ],
            "text/plain": [
              "                                                                                                                                                                                                                                                                                                                                                                                                                                                                                                                                                                                                                                                                                                                                                                                                                                                                                                                                                                                                                                                                                                                                                                                                                                                                                                                                                                                                                                                                                                                                                                                                                                                                                 customer_review  \\\n",
              "0                                                                                                                                                                                                                                                                                                                                                                                                                                                                                                                                    London to Izmir via Istanbul. First time I'd flown TK. I found them very good in the air, cabin crew, planes, food, all very nice. Not so great on the ground, ground staff, call centre, computer systems. My flight from LHR was delayed so I missed the connection in Istanbul. Most ground staff don't speak English, and I was given contradictory instructions from those that could speak a little English. I eventually got on a flight to Izmir three hours later, but it wasn't an easy process, made worse by the vast distances one has to walk between gates in the cavernous new airport. Also, I'd phoned a TK call centre (based in Ukraine) to pay an extra Â£40 or so each way for extra leg room seats. However, as the departure times kept changing, my seats kept changing, and for the return leg to London from Istanbul I was not given an extra leg room seat. Luckily there was a spare exit row seat and the cabin crew sorted me out. Overall, I think their cabin crew and planes are very good, ground staff and call centre staff need better training and they all need better computer systems and software to work with.   \n",
              "1                                                                                                                                                                                                                                                                                                                                                                                                                                                                                                                                                                                                                                                                                                                                                                                                                                                                                                                                                                                                                                                                                                                                                                                                                                Istanbul to Bucharest. We make our check in in the airport, they Take our luggage , we go to the gate and at the gate surprise they dont let uÈ™ board with two children, because they say the flight is overbooked. We had to wait in the airport with two children until 5 oclock in the morning until they bring uÈ™ to a hotel 2 hours far away from the airport without luggage, without eat without nothing. Our first and last flight with this airline.   \n",
              "2   Rome to Prishtina via Istanbul. I flew with this company several times in the past years, and I can honestly say that it is getting worse and worse. I flew from Rome to Prishtina via Istanbul, all 4 flights had a delay (which apparently is pretty normal with Turkish). The ground staff is for the most part useless. In Istambul i have tried to ask a few information about a flight delay (i had just 30 minutes before the connecting flight) and the whole answer was: \"Relax Sir, No problem Sir, It's okay\". The new airport is a gigantic mess, very big and disorganized. When you land in Istanbul it takes about 20 to 25 minutes taxiing and other 10 minutes before they actually start disembarking, it's an exhausting experience especially if you are in a hurry. Forget about asking for some indication at the new airport, they all chat between each other, some with a coffee in their hands. I flew with four different aircraft on this trip, two were fairly new, the other two were old, seats worn. Food on board was of very poor quality.., let me repeat this, very...poor quality. In general i can say that crew is decently trained and deliver a good experience or at least they try, of course it is far from the experience you get flying Qatar or Emirates but still pretty good, while ground personnel, especially in Istanbul is the personification of the word Lazy. A complete disaster. I will try and avoid Turkish Airlines in the future, it is not a cheap company and definitely not worth for the money you pay. If you are in a hurry or you know you will be avoid this company and avoid the new istanbul airport at all costs.   \n",
              "3                                                                                                                                                                                                                                                                                                                                                                                                                                                                                                                                                                                                                                                                                                                        Flew on Turkish Airlines IAD-IST-KHI and return KHI-IST-IAD. Turkish Airlines has consistently maintained its quality since I first flew with them in 2007. The flights leave on time, the catering is excellent, the inflight entertainment is extensive and the interface easy to use, and the cabin crew is excellent. Interesting though the A330 on the KHI-IST route and return seemed to have more leg room and was newer than the A330 on the IAD-IST route which was showing its age. The A330 on the IAD-IST route had a slow responding interface for the inflight entertainment and a broken table on the return flight. But Turkish Airlines will be replacing the A330 on its flight to IAD with the 787 sometime in the summer. Turkish food was served on the return leg which I personally like, and I saw the cabin staff helping elderly passengers walk to the lavatory which was nice. Overall another wonderful experience with Turkish Airlines.   \n",
              "4                                                                                                                                                                                                                                                                                                                                                                                                                                                                                                                                                                                                                                                                                                                                                                                                                                                                                                                                                                                                                                                                                                                                                                                                                                                                                   Mumbai to Dublin via Istanbul. Never book Turkish airlines if you are traveling to Dublin from Mumbai. If the flight gets delay from Mumbai, they don't have any other options for you. They will straight forward ask you to stay in hotel in Istanbul. They do not care for any for your time loss. No decisions has been made from airlines crew within time. They kept me waiting for more than 3 hours.   \n",
              "\n",
              "   NPS Score  \\\n",
              "0    Passive   \n",
              "1  Detractor   \n",
              "2  Detractor   \n",
              "3   Promoter   \n",
              "4  Detractor   \n",
              "\n",
              "                                                                                                                                                                                                                                                                                                                                                                                                                                                                                                                                                                                                                       tokenized  \n",
              "0                   ( , London, to, Izmir, via, Istanbul, ., First, time, I, 'd, flown, TK, ., I, found, them, very, good, in, the, air, ,, cabin, crew, ,, planes, ,, food, ,, all, very, nice, ., Not, so, great, on, the, ground, ,, ground, staff, ,, call, centre, ,, computer, systems, ., My, flight, from, LHR, was, delayed, so, I, missed, the, connection, in, Istanbul, ., Most, ground, staff, do, n't, speak, English, ,, and, I, was, given, contradictory, instructions, from, those, that, could, speak, a, little, English, ., I, eventually, got, on, a, flight, to, Izmir, three, hours, later, ,, but, ...)  \n",
              "1                                                   ( , Istanbul, to, Bucharest, ., We, make, our, check, in, in, the, airport, ,, they, Take, our, luggage, ,, we, go, to, the, gate, and, at, the, gate, surprise, they, do, nt, let, uÈ, ™, board, with, two, children, ,, because, they, say, the, flight, is, overbooked, ., We, had, to, wait, in, the, airport, with, two, children, until, 5, oclock, in, the, morning, until, they, bring, uÈ, ™, to, a, hotel, 2, hours, far, away, from, the, airport, without, luggage, ,, without, eat, without, nothing, ., Our, first, and, last, flight, with, this, airline, .)  \n",
              "2               ( , Rome, to, Prishtina, via, Istanbul, ., I, flew, with, this, company, several, times, in, the, past, years, ,, and, I, can, honestly, say, that, it, is, getting, worse, and, worse, ., I, flew, from, Rome, to, Prishtina, via, Istanbul, ,, all, 4, flights, had, a, delay, (, which, apparently, is, pretty, normal, with, Turkish, ), ., The, ground, staff, is, for, the, most, part, useless, ., In, Istambul, i, have, tried, to, ask, a, few, information, about, a, flight, delay, (, i, had, just, 30, minutes, before, the, connecting, flight, ), and, the, whole, answer, was, :, \", Relax, ...)  \n",
              "3  ( , Flew, on, Turkish, Airlines, IAD, -, IST, -, KHI, and, return, KHI, -, IST, -, IAD, ., Turkish, Airlines, has, consistently, maintained, its, quality, since, I, first, flew, with, them, in, 2007, ., The, flights, leave, on, time, ,, the, catering, is, excellent, ,, the, inflight, entertainment, is, extensive, and, the, interface, easy, to, use, ,, and, the, cabin, crew, is, excellent, ., Interesting, though, the, A330, on, the, KHI, -, IST, route, and, return, seemed, to, have, more, leg, room, and, was, newer, than, the, A330, on, the, IAD, -, IST, route, which, was, showing, its, age, ., ...)  \n",
              "4                                                                                                                    ( , Mumbai, to, Dublin, via, Istanbul, ., Never, book, Turkish, airlines, if, you, are, traveling, to, Dublin, from, Mumbai, ., If, the, flight, gets, delay, from, Mumbai, ,, they, do, n't, have, any, other, options, for, you, ., They, will, straight, forward, ask, you, to, stay, in, hotel, in, Istanbul, ., They, do, not, care, for, any, for, your, time, loss, ., No, decisions, has, been, made, from, airlines, crew, within, time, ., They, kept, me, waiting, for, more, than, 3, hours, .)  "
            ]
          },
          "execution_count": 65,
          "metadata": {},
          "output_type": "execute_result"
        }
      ],
      "source": [
        "nlp = spacy.load(\"en_core_web_sm\")\n",
        "dataset[\"tokenized\"] = dataset[\"customer_review\"].apply(nlp)\n",
        "\n",
        "dataset.head()"
      ]
    },
    {
      "cell_type": "markdown",
      "metadata": {
        "id": "bsqBYsSmLwNF"
      },
      "source": [
        "### b. POS and NE extraction"
      ]
    },
    {
      "cell_type": "markdown",
      "metadata": {
        "id": "XB868U5HLwNF"
      },
      "source": [
        "Now that we have the tokenised version of the text, let us proceed by defining the _get_pos_ and _get_ents_ functions. The former filters the tokenised text based on the provided Part-of-speech (POS) and returns the lemmatised version of the required tokens for each row. The latter extracts the named entities as required. If the np_list is empty, the function returns all the named entities in a given sentence.\n",
        "\n",
        "These two functions are defined now, as we will be relying on them frequently later.\n"
      ]
    },
    {
      "cell_type": "code",
      "execution_count": null,
      "metadata": {
        "id": "QDW7E1sDLwNF"
      },
      "outputs": [],
      "source": [
        "# Get Lemmatized tokens based on Wanted POS\n",
        "def get_pos(sentence, wanted_pos):\n",
        "    return \" \".join(token.lemma_ for token in sentence if token.pos_ in wanted_pos)\n",
        "\n",
        "\n",
        "# REFERENCE [2] : https://towardsdatascience.com/named-entity-recognition-ner-using-spacy-nlp-part-4-28da2ece57c6\n",
        "# Get named entities - If np_list is not None, only return named entities in np_list\n",
        "# include label: if True, return (entity, label) tuple, else return entity only\n",
        "def get_ents(sentence, np_list=None, include_label=True):\n",
        "    doc = nlp(sentence)\n",
        "    if doc.ents:\n",
        "        if np_list:\n",
        "            return [\n",
        "                (ent.text, ent.label_) if include_label else ent.text\n",
        "                for ent in doc.ents\n",
        "                if ent.label_ in np_list\n",
        "            ] or []\n",
        "        else:\n",
        "            return [\n",
        "                (ent.text, ent.label_) if include_label else ent.text\n",
        "                for ent in doc.ents\n",
        "            ] or []\n",
        "    return []"
      ]
    },
    {
      "cell_type": "markdown",
      "metadata": {
        "id": "HDDbKax0LwNG"
      },
      "source": [
        "We will use adjectives and verbs as our Parts-of-Speech (POS) in this study for our derived datasets. Adjectives like \"delayed,\" \"comfortable,\" \"good,\" \"worse,\" and \"terrible\" serve as significant indicators of customer satisfaction. Meanwhile, verbs such as \"planned,\" \"delayed,\" \"missed,\" and \"overbooked\" help us understand the actions of both customers and airlines and how they are connected.\n",
        "\n",
        "When in comes to named entities we shall first explore them by not providing the list of desired named entities to the _get_ents_ function.\n"
      ]
    },
    {
      "cell_type": "code",
      "execution_count": null,
      "metadata": {
        "id": "WnMcwvkrLwNG",
        "outputId": "96c5521b-2187-4059-8460-3ea65e6c22ae"
      },
      "outputs": [
        {
          "name": "stdout",
          "output_type": "stream",
          "text": [
            "[[('London', 'GPE'), ('Izmir', 'PERSON'), ('Istanbul', 'GPE'), ('First', 'ORDINAL'), ('LHR', 'ORG'), ('Istanbul', 'GPE'), ('English', 'LANGUAGE'), ('English', 'LANGUAGE'), ('three hours later', 'TIME'), ('Ukraine', 'GPE'), ('London', 'GPE'), ('Istanbul', 'GPE')], [('Istanbul', 'GPE'), ('two', 'CARDINAL'), ('two', 'CARDINAL'), ('5', 'CARDINAL'), ('the morning', 'TIME'), ('2 hours', 'TIME'), ('first', 'ORDINAL')], [('Rome', 'GPE'), ('Prishtina', 'GPE'), ('Istanbul', 'GPE'), ('the past years', 'DATE'), ('Rome', 'GPE'), ('Prishtina', 'GPE'), ('Istanbul', 'GPE'), ('4', 'CARDINAL'), ('Turkish', 'NORP'), ('Istambul', 'GPE'), ('just 30 minutes', 'TIME'), ('Relax Sir', 'WORK_OF_ART'), ('Istanbul', 'GPE'), ('about 20 to 25 minutes', 'TIME'), ('10 minutes', 'TIME'), ('four', 'CARDINAL'), ('two', 'CARDINAL'), ('two', 'CARDINAL'), ('Qatar', 'GPE'), ('Emirates', 'GPE'), ('Istanbul', 'GPE'), ('Lazy', 'ORG'), ('Turkish Airlines', 'ORG')], [('Turkish Airlines', 'ORG'), ('Turkish Airlines', 'ORG'), ('first', 'ORDINAL'), ('2007', 'DATE'), ('A330', 'PRODUCT'), ('A330', 'PRODUCT'), ('A330', 'PRODUCT'), ('Turkish Airlines', 'ORG'), ('A330', 'PRODUCT'), ('787', 'CARDINAL'), ('the summer', 'DATE'), ('Turkish', 'NORP'), ('Turkish Airlines', 'ORG')], [('Mumbai', 'GPE'), ('Dublin', 'GPE'), ('Istanbul', 'GPE'), ('Turkish', 'NORP'), ('Dublin', 'GPE'), ('Mumbai', 'GPE'), ('Mumbai', 'GPE'), ('Istanbul', 'GPE'), ('more than 3 hours', 'TIME')], [('Istanbul', 'GPE'), ('Budapest', 'GPE'), ('Dublin', 'GPE'), ('Turkish Airlines', 'ORG'), ('Istanbul', 'GPE'), ('almost 20 hours', 'TIME'), ('an hour', 'TIME')], [('Istanbul', 'GPE'), ('Algiers', 'GPE'), ('9:30 pm', 'TIME'), ('Algiers', 'GPE'), ('11:20 pm same night', 'TIME'), ('2:55 hours', 'TIME'), ('6:30 am', 'TIME'), ('more than 9 hours', 'TIME'), ('Algiers', 'GPE'), ('April 15', 'DATE'), ('that day', 'DATE'), ('Turkish Airlines', 'ORG')], [('Basel', 'GPE'), ('Cape Town', 'GPE'), ('Istanbul', 'GPE'), ('Istanbul', 'GPE'), ('10pm', 'TIME'), ('Cape Town', 'PERSON'), ('4,5 hours', 'TIME'), ('Delay', 'PERSON'), ('Burger King', 'ORG')], [('Abu Dhabi', 'GPE'), ('Luxembourg', 'GPE'), ('Istanbul', 'GPE'), ('AUH-IST', 'ORG'), ('1:30am', 'DATE'), ('4.5 hours', 'TIME'), ('AUH', 'ORG')], [('Turkish Airlines', 'ORG'), ('First', 'ORDINAL'), ('$200 Euros', 'MONEY'), ('$400', 'MONEY'), ('2', 'CARDINAL'), ('Turkish Airlines', 'ORG'), ('JetBlue', 'ORG'), ('Venice', 'GPE'), ('Istanbul', 'GPE'), ('Boston', 'GPE'), ('Jetblue', 'ORG'), ('San Juan', 'GPE'), ('Puerto Rico', 'GPE'), ('Boston', 'GPE'), ('Turkish Airlines', 'ORG'), ('BOS', 'ORG'), ('Turkish Airlines', 'ORG'), ('Jetblue', 'ORG'), ('JB', 'PERSON'), ('TATurkish Airlines', 'ORG'), ('Boston', 'GPE'), ('Turkish Airlines', 'ORG'), ('Turkish Airlines', 'ORG')]]\n"
          ]
        }
      ],
      "source": [
        "pos_tags = [\"ADJ\", \"VERB\"]\n",
        "\n",
        "print(dataset[\"customer_review\"].apply(get_ents).head(10).to_list())"
      ]
    },
    {
      "cell_type": "markdown",
      "metadata": {
        "id": "Zbj898aHLwNG"
      },
      "source": [
        "Several named entities appear in the first 10 rows of the dataset. However, in my opinion, the ones with the greatest potential for affecting the NPS score are \"TIME,\" \"ORG,\" and \"MONEY.\"\n",
        "Naturally, time management is a critical factor in air transportation. Analyzing this entity can reveal frequent complaints or compliments in relation to punctuality, scheduling, and overall airline time management.\n",
        "When discussing an \"ORG\" (organization or institution) entity, it is important to identify the specific airline receiving complaints or praise. For example, if a particular airline receives mostly positive reviews, we would expect to see more promoters compared to an airline with mostly negative reviews.\n",
        "Additionally, money is a significant consideration for airlines, as their ultimate goal is to make a profit, while individual travellers typically aim to reduce expenses. This area is, personally, very crucial to study, as, most of the time, only one part (airline or the traveler) gets out of it completely satisfied.\n"
      ]
    },
    {
      "cell_type": "code",
      "execution_count": null,
      "metadata": {
        "id": "976Iwp_FLwNG"
      },
      "outputs": [],
      "source": [
        "np_list = [\n",
        "    \"TIME\",\n",
        "    \"ORG\",\n",
        "    \"MONEY\",\n",
        "]"
      ]
    },
    {
      "cell_type": "markdown",
      "metadata": {
        "id": "eoU0LhGXLwNG"
      },
      "source": [
        "### c. Datasets setup"
      ]
    },
    {
      "cell_type": "markdown",
      "metadata": {
        "id": "3TL46mxoLwNG"
      },
      "source": [
        "We now proceed with defining our derived datasets.\n"
      ]
    },
    {
      "cell_type": "code",
      "execution_count": null,
      "metadata": {
        "id": "d3oVj1ZPLwNG",
        "outputId": "0eccffb3-b9ec-4a91-b465-6de701e83dee"
      },
      "outputs": [
        {
          "data": {
            "text/plain": [
              "0                                                                                                                             first fly find good nice great delay miss Most speak give contradictory speak little get easy make bad vast have walk cavernous new phone base pay extra Â£40 extra keep change keep change give extra be spare sort think good need well need well work\n",
              "1                                                                                                                                                                                                                                                                                                                          make take go let ™ say overbooke have wait bring first last\n",
              "2    fly several past say get bad bad fly have normal most useless try ask few connect whole relax okay new gigantic big disorganized land take taxi other start disembarking exhausting forget ask new chat other fly different new other old wear poor let repeat poor general say train deliver good least try get fly good complete try avoid cheap worth pay know avoid avoid new\n",
              "3                                                                                                                                                                      return maintain fly leave excellent inflight extensive easy use excellent interesting seem have more new show have slow respond inflight broken replace turkish serve like see help elderly walk nice wonderful\n",
              "4                                                                                                                                                                                                                                                                                                                      turkish travel get have other ask stay care make keep wait more\n",
              "Name: pos, dtype: object"
            ]
          },
          "execution_count": 69,
          "metadata": {},
          "output_type": "execute_result"
        }
      ],
      "source": [
        "derived_dataset1 = pd.DataFrame(columns=[\"NPS Score\", \"pos\"])\n",
        "derived_dataset1[\"NPS Score\"] = dataset[\"NPS Score\"]\n",
        "\n",
        "# Pos_tags = [\"ADJ\", \"VERB\"]\n",
        "derived_dataset1[\"pos\"] = dataset[\"tokenized\"].apply(\n",
        "    lambda sent: get_pos(sent, pos_tags)\n",
        ")\n",
        "\n",
        "derived_dataset1[\"pos\"].head() # scroll right to see full pos elements"
      ]
    },
    {
      "cell_type": "code",
      "execution_count": null,
      "metadata": {
        "id": "XyPot_QgLwNG",
        "outputId": "10d0e64a-cf13-4aca-acc0-578d1638a56d"
      },
      "outputs": [
        {
          "data": {
            "text/plain": [
              "['first fly find good nice great delay miss Most speak give contradictory speak little get easy make bad vast have walk cavernous new phone base pay extra Â£40 extra keep change keep change give extra be spare sort think good need well need well work LHR three hours later',\n",
              " 'make take go let ™ say overbooke have wait bring first last the morning 2 hours',\n",
              " 'fly several past say get bad bad fly have normal most useless try ask few connect whole relax okay new gigantic big disorganized land take taxi other start disembarking exhausting forget ask new chat other fly different new other old wear poor let repeat poor general say train deliver good least try get fly good complete try avoid cheap worth pay know avoid avoid new just 30 minutes about 20 to 25 minutes 10 minutes Lazy Turkish Airlines',\n",
              " 'return maintain fly leave excellent inflight extensive easy use excellent interesting seem have more new show have slow respond inflight broken replace turkish serve like see help elderly walk nice wonderful Turkish Airlines Turkish Airlines Turkish Airlines Turkish Airlines',\n",
              " 'turkish travel get have other ask stay care make keep wait more more than 3 hours']"
            ]
          },
          "execution_count": 70,
          "metadata": {},
          "output_type": "execute_result"
        }
      ],
      "source": [
        "derived_dataset2 = pd.DataFrame(columns=[\"NPS Score\", \"pos-np\"])\n",
        "derived_dataset2[\"NPS Score\"] = dataset[\"NPS Score\"]\n",
        "\n",
        "# Pos_tags = [\"ADJ\", \"VERB\"]\n",
        "lemmas = dataset[\"tokenized\"].apply(lambda sent: get_pos(sent, pos_tags))\n",
        "\n",
        "# np_list = [\"TIME\", \"ORG\", \"MONEY\"]\n",
        "entities = dataset[\"customer_review\"].apply(\n",
        "    lambda sent: get_ents(sent, np_list=np_list, include_label=False)\n",
        ")\n",
        "\n",
        "# Combine lemmatized POS and entities\n",
        "derived_dataset2[\"pos-np\"] = (\n",
        "    lemmas + \" \" + entities.apply(lambda ents: \" \".join([ent for ent in ents]))\n",
        ")\n",
        "\n",
        "derived_dataset2[\"pos-np\"].head().to_list()"
      ]
    },
    {
      "cell_type": "markdown",
      "metadata": {
        "id": "48mohGeOLwNG"
      },
      "source": [
        "# 2. CLASSIFICATION\n"
      ]
    },
    {
      "cell_type": "markdown",
      "metadata": {
        "id": "qLYFd6qYLwNH"
      },
      "source": [
        "### 1. Setup\n"
      ]
    },
    {
      "cell_type": "markdown",
      "metadata": {
        "id": "HhGFvP3uLwNH"
      },
      "source": [
        "To simplify the model training, we've pre-set functions to reduce code. For feature encoding, we will use CountVectorizer and eliminate stop words. Therefore, the get_features function will extract features from the provided dataset column. Two additional functions are defined for returning the LR and MPL models, respectively. The getMPL function permits the declaration of the MPL classifier with either the default settings or customized ones.\n",
        "\n",
        "The chosen MPLClassifier settings are **[3]**:\n",
        "\n",
        "- hidden_layer_sizes, presenting the number of neurons in the i-th hidden layer with a default value of 100.\n",
        "- activation, representing the activation function for the hidden layer. The default activation function is \"relu\".\n",
        "- The solver used for weight optimization is specified by the solver parameter, with the default being \"adam\".\n",
        "\n",
        "Finally, a 4-fold cross-validation function has been pre-defined to simplify the training and validation procedures discussed in the subsequent sections. Metrics for macro and micro recall, as well as precision, will be calculated.\n"
      ]
    },
    {
      "cell_type": "code",
      "execution_count": null,
      "metadata": {
        "id": "oO2sc-NJLwNH"
      },
      "outputs": [],
      "source": [
        "# REFERENCE [4] : https://scikit-learn.org/stable/tutorial/text_analytics/working_with_text_data.html\n",
        "from sklearn.feature_extraction.text import CountVectorizer\n",
        "\n",
        "count_vect = CountVectorizer(stop_words=\"english\")\n",
        "\n",
        "\n",
        "def get_features(dataset_column):\n",
        "    return count_vect.fit_transform(dataset_column)"
      ]
    },
    {
      "cell_type": "code",
      "execution_count": null,
      "metadata": {
        "id": "WbZQA2zdLwNH"
      },
      "outputs": [],
      "source": [
        "# REFERENCE [3] : https://scikit-learn.org/stable/modules/generated/sklearn.neural_network.MLPClassifier.html\n",
        "# REFERENCE [5] : https://scikit-learn.org/stable/modules/generated/sklearn.linear_model.LogisticRegression.html#sklearn.linear_model.LogisticRegression\n",
        "from sklearn.linear_model import LogisticRegression\n",
        "from sklearn.neural_network import MLPClassifier\n",
        "\n",
        "\n",
        "def getLR():\n",
        "    return LogisticRegression()\n",
        "\n",
        "\n",
        "# Default MLP settings\n",
        "def getMLP(hidden_layer_sizes=100, activation=\"relu\", learning_rate=\"constant\"):\n",
        "    return MLPClassifier(\n",
        "        hidden_layer_sizes=hidden_layer_sizes,\n",
        "        activation=activation,\n",
        "        learning_rate=learning_rate,\n",
        "    )"
      ]
    },
    {
      "cell_type": "code",
      "execution_count": null,
      "metadata": {
        "id": "YAYP8d08LwNH"
      },
      "outputs": [],
      "source": [
        "# REFERENCE [6] : https://scikit-learn.org/stable/modules/cross_validation.html\n",
        "# REFERENCE [7] : https://scikit-learn.org/stable/modules/generated/sklearn.model_selection.cross_val_score.html\n",
        "from sklearn.model_selection import cross_val_score\n",
        "\n",
        "\n",
        "def cross_validate_model(\n",
        "    model,\n",
        "    X,\n",
        "    y,\n",
        "):\n",
        "    scoring = [\"precision_micro\", \"precision_macro\", \"recall_micro\", \"recall_macro\"]\n",
        "    return [cross_validate(model, X, y, scoring=scoring) for scoring in scoring]\n",
        "\n",
        "\n",
        "def cross_validate(\n",
        "    model,\n",
        "    X,\n",
        "    y,\n",
        "    scoring,\n",
        "    cv=4,\n",
        "):\n",
        "    scores = cross_val_score(model, X, y, cv=cv, scoring=scoring)\n",
        "    return scores.mean()"
      ]
    },
    {
      "cell_type": "markdown",
      "metadata": {
        "id": "8xM-6T64LwNH"
      },
      "source": [
        "We define our dataframe to hold the calculated metrics for later analysis\n"
      ]
    },
    {
      "cell_type": "code",
      "execution_count": null,
      "metadata": {
        "id": "P9HT6Z_mLwNH"
      },
      "outputs": [],
      "source": [
        "## Model : LR - MPL\n",
        "## Settings : Default - Custom\n",
        "## Dataset : dataset - derived_dataset1 - derived_dataset2\n",
        "scores = pd.DataFrame(\n",
        "    columns=[\n",
        "        \"Model\",\n",
        "        \"Settings\",\n",
        "        \"dataset\",\n",
        "        \"precision_micro\",\n",
        "        \"precision_macro\",\n",
        "        \"recall_micro\",\n",
        "        \"recall_macro\",\n",
        "    ]\n",
        ")"
      ]
    },
    {
      "cell_type": "markdown",
      "metadata": {
        "id": "FxAIatanLwNH"
      },
      "source": [
        "## 2. Default Settings Classification\n"
      ]
    },
    {
      "cell_type": "markdown",
      "metadata": {
        "id": "6SdaYsJ7LwNH"
      },
      "source": [
        "We commence the classification procedure by specifying the default LR and MPL classifiers for the primary dataset, along with the two derived datasets.\n"
      ]
    },
    {
      "cell_type": "markdown",
      "metadata": {
        "id": "DmKV5eQ5LwNH"
      },
      "source": [
        "### a. LR Default settings\n"
      ]
    },
    {
      "cell_type": "code",
      "execution_count": null,
      "metadata": {
        "id": "lfGorBpZLwNI"
      },
      "outputs": [],
      "source": [
        "logreg_default = getLR()"
      ]
    },
    {
      "cell_type": "markdown",
      "metadata": {
        "id": "vmqUF62VLwNI"
      },
      "source": [
        "        i. dataset\n"
      ]
    },
    {
      "cell_type": "code",
      "execution_count": null,
      "metadata": {
        "id": "qttpr6rpLwNI",
        "outputId": "545b62b8-3c4b-4970-d8e4-210f7f46014e"
      },
      "outputs": [
        {
          "data": {
            "text/html": [
              "<div>\n",
              "<style scoped>\n",
              "    .dataframe tbody tr th:only-of-type {\n",
              "        vertical-align: middle;\n",
              "    }\n",
              "\n",
              "    .dataframe tbody tr th {\n",
              "        vertical-align: top;\n",
              "    }\n",
              "\n",
              "    .dataframe thead th {\n",
              "        text-align: right;\n",
              "    }\n",
              "</style>\n",
              "<table border=\"1\" class=\"dataframe\">\n",
              "  <thead>\n",
              "    <tr style=\"text-align: right;\">\n",
              "      <th></th>\n",
              "      <th>Model</th>\n",
              "      <th>Settings</th>\n",
              "      <th>dataset</th>\n",
              "      <th>precision_micro</th>\n",
              "      <th>precision_macro</th>\n",
              "      <th>recall_micro</th>\n",
              "      <th>recall_macro</th>\n",
              "    </tr>\n",
              "  </thead>\n",
              "  <tbody>\n",
              "    <tr>\n",
              "      <th>0</th>\n",
              "      <td>LR</td>\n",
              "      <td>Default</td>\n",
              "      <td>dataset</td>\n",
              "      <td>0.683393</td>\n",
              "      <td>0.622308</td>\n",
              "      <td>0.683393</td>\n",
              "      <td>0.600668</td>\n",
              "    </tr>\n",
              "  </tbody>\n",
              "</table>\n",
              "</div>"
            ],
            "text/plain": [
              "  Model Settings  dataset  precision_micro  precision_macro  recall_micro  \\\n",
              "0    LR  Default  dataset         0.683393         0.622308      0.683393   \n",
              "\n",
              "   recall_macro  \n",
              "0      0.600668  "
            ]
          },
          "execution_count": 76,
          "metadata": {},
          "output_type": "execute_result"
        }
      ],
      "source": [
        "# REFERENCE [8] : https://stackoverflow.com/questions/43162506/undefinedmetricwarning-f-score-is-ill-defined-and-being-set-to-0-0-in-labels-wi\n",
        "import warnings\n",
        "\n",
        "warnings.filterwarnings(\"ignore\")  # Ignore zero division warnings\n",
        "\n",
        "scores.loc[len(scores)] = [\"LR\", \"Default\", \"dataset\"] + cross_validate_model(\n",
        "    logreg_default, get_features(dataset[\"customer_review\"]), dataset[\"NPS Score\"]\n",
        ")\n",
        "scores.head()  # Sample of scores' format"
      ]
    },
    {
      "cell_type": "markdown",
      "metadata": {
        "id": "rBk2bRcnLwNI"
      },
      "source": [
        "        ii. derived_dataset1\n"
      ]
    },
    {
      "cell_type": "code",
      "execution_count": null,
      "metadata": {
        "id": "-iY6Ig53LwNI"
      },
      "outputs": [],
      "source": [
        "scores.loc[len(scores)] = [\"LR\", \"Default\", \"derived_dataset1\"] + cross_validate_model(\n",
        "    logreg_default, get_features(derived_dataset1[\"pos\"]), derived_dataset1[\"NPS Score\"]\n",
        ")"
      ]
    },
    {
      "cell_type": "markdown",
      "metadata": {
        "id": "dt7vtbhALwNI"
      },
      "source": [
        "        iii. derived_dataset2\n"
      ]
    },
    {
      "cell_type": "code",
      "execution_count": null,
      "metadata": {
        "id": "O9EDiNThLwNM"
      },
      "outputs": [],
      "source": [
        "scores.loc[len(scores)] = [\"LR\", \"Default\", \"derived_dataset2\"] + cross_validate_model(\n",
        "    logreg_default,\n",
        "    get_features(derived_dataset2[\"pos-np\"]),\n",
        "    derived_dataset2[\"NPS Score\"],\n",
        ")"
      ]
    },
    {
      "cell_type": "markdown",
      "metadata": {
        "id": "YLpobw_gLwNN"
      },
      "source": [
        "### b. MLP Default settings\n"
      ]
    },
    {
      "cell_type": "code",
      "execution_count": null,
      "metadata": {
        "id": "iSg-vbVULwNN"
      },
      "outputs": [],
      "source": [
        "mlp_default = getMLP()"
      ]
    },
    {
      "cell_type": "markdown",
      "metadata": {
        "id": "uxlmJ1h7LwNN"
      },
      "source": [
        "        i. dataset\n"
      ]
    },
    {
      "cell_type": "code",
      "execution_count": null,
      "metadata": {
        "id": "ERHt_hQILwNN"
      },
      "outputs": [],
      "source": [
        "scores.loc[len(scores)] = [\"MLP\", \"Default\", \"dataset\"] + cross_validate_model(\n",
        "    mlp_default, get_features(dataset[\"customer_review\"]), dataset[\"NPS Score\"]\n",
        ")"
      ]
    },
    {
      "cell_type": "markdown",
      "metadata": {
        "id": "PIXEhdR3LwNN"
      },
      "source": [
        "        ii. derived_dataset1\n"
      ]
    },
    {
      "cell_type": "code",
      "execution_count": null,
      "metadata": {
        "id": "1CHAHXIGLwNN"
      },
      "outputs": [],
      "source": [
        "scores.loc[len(scores)] = [\"MLP\", \"Default\", \"derived_dataset1\"] + cross_validate_model(\n",
        "    mlp_default, get_features(derived_dataset1[\"pos\"]), derived_dataset1[\"NPS Score\"]\n",
        ")"
      ]
    },
    {
      "cell_type": "markdown",
      "metadata": {
        "id": "hTrpyL0oLwNN"
      },
      "source": [
        "        iii. derived_dataset2\n"
      ]
    },
    {
      "cell_type": "code",
      "execution_count": null,
      "metadata": {
        "id": "UmUp7sSYLwNO"
      },
      "outputs": [],
      "source": [
        "scores.loc[len(scores)] = [\"MLP\", \"Default\", \"derived_dataset2\"] + cross_validate_model(\n",
        "    mlp_default,\n",
        "    get_features(derived_dataset2[\"pos-np\"]),\n",
        "    derived_dataset2[\"NPS Score\"],\n",
        ")"
      ]
    },
    {
      "cell_type": "markdown",
      "metadata": {
        "id": "JVnvkITULwNO"
      },
      "source": [
        "### c. Results and discussion\n"
      ]
    },
    {
      "cell_type": "markdown",
      "metadata": {
        "id": "PkuyanRTLwNO"
      },
      "source": [
        "After the processing the three dataset variants using LR and MPL classifiers, we obtain the following precision and recall scores:\n"
      ]
    },
    {
      "cell_type": "code",
      "execution_count": null,
      "metadata": {
        "id": "-_oKzEzgLwNO",
        "outputId": "bc4f22e5-9208-4f46-e524-b30672fa0bb0"
      },
      "outputs": [
        {
          "data": {
            "text/html": [
              "<div>\n",
              "<style scoped>\n",
              "    .dataframe tbody tr th:only-of-type {\n",
              "        vertical-align: middle;\n",
              "    }\n",
              "\n",
              "    .dataframe tbody tr th {\n",
              "        vertical-align: top;\n",
              "    }\n",
              "\n",
              "    .dataframe thead th {\n",
              "        text-align: right;\n",
              "    }\n",
              "</style>\n",
              "<table border=\"1\" class=\"dataframe\">\n",
              "  <thead>\n",
              "    <tr style=\"text-align: right;\">\n",
              "      <th></th>\n",
              "      <th>Model</th>\n",
              "      <th>Settings</th>\n",
              "      <th>dataset</th>\n",
              "      <th>precision_micro</th>\n",
              "      <th>precision_macro</th>\n",
              "      <th>recall_micro</th>\n",
              "      <th>recall_macro</th>\n",
              "    </tr>\n",
              "  </thead>\n",
              "  <tbody>\n",
              "    <tr>\n",
              "      <th>0</th>\n",
              "      <td>LR</td>\n",
              "      <td>Default</td>\n",
              "      <td>dataset</td>\n",
              "      <td>0.683393</td>\n",
              "      <td>0.622308</td>\n",
              "      <td>0.683393</td>\n",
              "      <td>0.600668</td>\n",
              "    </tr>\n",
              "    <tr>\n",
              "      <th>1</th>\n",
              "      <td>LR</td>\n",
              "      <td>Default</td>\n",
              "      <td>derived_dataset1</td>\n",
              "      <td>0.752627</td>\n",
              "      <td>0.666477</td>\n",
              "      <td>0.752627</td>\n",
              "      <td>0.655626</td>\n",
              "    </tr>\n",
              "    <tr>\n",
              "      <th>2</th>\n",
              "      <td>LR</td>\n",
              "      <td>Default</td>\n",
              "      <td>derived_dataset2</td>\n",
              "      <td>0.701792</td>\n",
              "      <td>0.629293</td>\n",
              "      <td>0.701792</td>\n",
              "      <td>0.609128</td>\n",
              "    </tr>\n",
              "    <tr>\n",
              "      <th>3</th>\n",
              "      <td>MLP</td>\n",
              "      <td>Default</td>\n",
              "      <td>dataset</td>\n",
              "      <td>0.697147</td>\n",
              "      <td>0.623664</td>\n",
              "      <td>0.697240</td>\n",
              "      <td>0.604627</td>\n",
              "    </tr>\n",
              "    <tr>\n",
              "      <th>4</th>\n",
              "      <td>MLP</td>\n",
              "      <td>Default</td>\n",
              "      <td>derived_dataset1</td>\n",
              "      <td>0.726514</td>\n",
              "      <td>0.642096</td>\n",
              "      <td>0.725491</td>\n",
              "      <td>0.638241</td>\n",
              "    </tr>\n",
              "    <tr>\n",
              "      <th>5</th>\n",
              "      <td>MLP</td>\n",
              "      <td>Default</td>\n",
              "      <td>derived_dataset2</td>\n",
              "      <td>0.686181</td>\n",
              "      <td>0.607843</td>\n",
              "      <td>0.689248</td>\n",
              "      <td>0.597967</td>\n",
              "    </tr>\n",
              "  </tbody>\n",
              "</table>\n",
              "</div>"
            ],
            "text/plain": [
              "  Model Settings           dataset  precision_micro  precision_macro  \\\n",
              "0    LR  Default           dataset         0.683393         0.622308   \n",
              "1    LR  Default  derived_dataset1         0.752627         0.666477   \n",
              "2    LR  Default  derived_dataset2         0.701792         0.629293   \n",
              "3   MLP  Default           dataset         0.697147         0.623664   \n",
              "4   MLP  Default  derived_dataset1         0.726514         0.642096   \n",
              "5   MLP  Default  derived_dataset2         0.686181         0.607843   \n",
              "\n",
              "   recall_micro  recall_macro  \n",
              "0      0.683393      0.600668  \n",
              "1      0.752627      0.655626  \n",
              "2      0.701792      0.609128  \n",
              "3      0.697240      0.604627  \n",
              "4      0.725491      0.638241  \n",
              "5      0.689248      0.597967  "
            ]
          },
          "execution_count": 83,
          "metadata": {},
          "output_type": "execute_result"
        }
      ],
      "source": [
        "scores.head(6)"
      ]
    },
    {
      "cell_type": "markdown",
      "metadata": {
        "id": "3bXbmWRcLwNO"
      },
      "source": [
        "**LR:**\n",
        "The micro recall and precision are identical (0.683393, 0.752627, and 0.701792) across all three dataset variations for the LR classifier. This indicates that the number of correct predictions (true positives) is equal to the number of actual positive cases that should have been predicted in the datasets.\n",
        "\n",
        "The scores are marginally better for the derived_dataset1 compared to the original dataset, suggesting that focusing on certain POS can lead to better outcomes than including every token.\n",
        "\n",
        "However, derived_dataset2, which includes both Parts of Speech (POS) and named entities, outperforms the original dataset but falls short of the performance of derived_dataset1. This suggests that the named entities may not have been as effective as planned in enhancing recall, precision, and overall model accuracy, or the initial selection of entities was suboptimal. Although I believed that combining POS and named entities would certainly improve the results.\n",
        "\n",
        "**MLP:**\n",
        "Although the initial model of the dataset achieved better recall and precision rates, the derived datasets display lower scores in comparison to LR's outcomes. Furthermore, derived_dataset1 exhibits better scores than the original dataset, while derived_dataset2 demonstrates the poorest outcomes. This yet again accentuates the adverse impact of incorporating named entities as features for model training.\n",
        "\n",
        "Additionally, we observe minor disparities in micro and macro results for the MLP classifier, signifying class imbalance where specific classes have a greater frequency in the dataset.\n"
      ]
    },
    {
      "cell_type": "markdown",
      "metadata": {
        "id": "-BIZbM7VLwNO"
      },
      "source": [
        "## 3. Custom Settings MLP Classification\n"
      ]
    },
    {
      "cell_type": "markdown",
      "metadata": {
        "id": "sDPUjcgxLwNU"
      },
      "source": [
        "The next step involves modifying the default parameter values for the MLP classifiers. We repeat this process twice.\n"
      ]
    },
    {
      "cell_type": "markdown",
      "metadata": {
        "id": "8xN4Vyy6LwNU"
      },
      "source": [
        "### a. MLP Custom settings (version 1)\n"
      ]
    },
    {
      "cell_type": "code",
      "execution_count": null,
      "metadata": {
        "id": "AoLNKKwDLwNV"
      },
      "outputs": [],
      "source": [
        "# default MLP settings: hidden_layer_sizes=100, activation=\"relu\", learning_rate=\"constant\"\n",
        "mlp_custom = getMLP(\n",
        "    hidden_layer_sizes=120, activation=\"tanh\", learning_rate=\"invscaling\"\n",
        ")"
      ]
    },
    {
      "cell_type": "markdown",
      "metadata": {
        "id": "i9BByQvMLwNV"
      },
      "source": [
        "        i. dataset\n"
      ]
    },
    {
      "cell_type": "code",
      "execution_count": null,
      "metadata": {
        "id": "lFFnPOIFLwNV"
      },
      "outputs": [],
      "source": [
        "scores.loc[len(scores)] = [\"MLP\", \"Custom\", \"dataset\"] + cross_validate_model(\n",
        "    mlp_default, get_features(dataset[\"customer_review\"]), dataset[\"NPS Score\"]\n",
        ")"
      ]
    },
    {
      "cell_type": "markdown",
      "metadata": {
        "id": "C53XytNsLwNV"
      },
      "source": [
        "        ii. derived_dataset1\n"
      ]
    },
    {
      "cell_type": "code",
      "execution_count": null,
      "metadata": {
        "id": "T8FCRX1wLwNV"
      },
      "outputs": [],
      "source": [
        "scores.loc[len(scores)] = [\"MLP\", \"Custom\", \"derived_dataset1\"] + cross_validate_model(\n",
        "    mlp_default, get_features(derived_dataset1[\"pos\"]), derived_dataset1[\"NPS Score\"]\n",
        ")"
      ]
    },
    {
      "cell_type": "markdown",
      "metadata": {
        "id": "fMriTe7cLwNV"
      },
      "source": [
        "        iii. derived_dataset2\n"
      ]
    },
    {
      "cell_type": "code",
      "execution_count": null,
      "metadata": {
        "id": "v1oSpUqRLwNV"
      },
      "outputs": [],
      "source": [
        "scores.loc[len(scores)] = [\"MLP\", \"Custom\", \"derived_dataset2\"] + cross_validate_model(\n",
        "    mlp_default, get_features(derived_dataset2[\"pos-np\"]), derived_dataset2[\"NPS Score\"]\n",
        ")"
      ]
    },
    {
      "cell_type": "markdown",
      "metadata": {
        "id": "1te815isLwNV"
      },
      "source": [
        "### b. MLP Custom settings (version 2)\n"
      ]
    },
    {
      "cell_type": "code",
      "execution_count": null,
      "metadata": {
        "id": "3FGCkGLBLwNV"
      },
      "outputs": [],
      "source": [
        "# default MLP settings: hidden_layer_sizes=100, activation=\"relu\", learning_rate=\"constant\"\n",
        "mlp_custom = getMLP(\n",
        "    hidden_layer_sizes=140, activation=\"identity\", learning_rate=\"adaptive\"\n",
        ")"
      ]
    },
    {
      "cell_type": "markdown",
      "metadata": {
        "id": "x0MEKobqLwNW"
      },
      "source": [
        "        i. dataset\n"
      ]
    },
    {
      "cell_type": "code",
      "execution_count": null,
      "metadata": {
        "id": "i8LVTkylLwNW"
      },
      "outputs": [],
      "source": [
        "scores.loc[len(scores)] = [\"MLP\", \"Custom\", \"dataset\"] + cross_validate_model(\n",
        "    mlp_default, get_features(dataset[\"customer_review\"]), dataset[\"NPS Score\"]\n",
        ")"
      ]
    },
    {
      "cell_type": "markdown",
      "metadata": {
        "id": "II8mcUVdLwNW"
      },
      "source": [
        "        ii. derived_dataset1\n"
      ]
    },
    {
      "cell_type": "code",
      "execution_count": null,
      "metadata": {
        "id": "zmIjmixBLwNW"
      },
      "outputs": [],
      "source": [
        "scores.loc[len(scores)] = [\"MLP\", \"Custom\", \"derived_dataset1\"] + cross_validate_model(\n",
        "    mlp_default, get_features(derived_dataset1[\"pos\"]), derived_dataset1[\"NPS Score\"]\n",
        ")"
      ]
    },
    {
      "cell_type": "markdown",
      "metadata": {
        "id": "CObuek5XLwNW"
      },
      "source": [
        "        iii. derived_dataset2\n"
      ]
    },
    {
      "cell_type": "code",
      "execution_count": null,
      "metadata": {
        "id": "J54xD_yxLwNW"
      },
      "outputs": [],
      "source": [
        "scores.loc[len(scores)] = [\"MLP\", \"Custom\", \"derived_dataset2\"] + cross_validate_model(\n",
        "    mlp_default, get_features(derived_dataset2[\"pos-np\"]), derived_dataset2[\"NPS Score\"]\n",
        ")"
      ]
    },
    {
      "cell_type": "markdown",
      "metadata": {
        "id": "5gqoiQ5pLwNW"
      },
      "source": [
        "# 3. Results and discussion\n"
      ]
    },
    {
      "cell_type": "markdown",
      "metadata": {
        "id": "VoPX_2M3LwNW"
      },
      "source": [
        "We begin by appending a column to the scores dataframe, showcasing all parameters utilized to configure the MLP classifier."
      ]
    },
    {
      "cell_type": "code",
      "execution_count": null,
      "metadata": {
        "id": "AakZUFUmLwNW"
      },
      "outputs": [],
      "source": [
        "params = pd.DataFrame(columns=[\"params\"]) # To be added to scores dataframe to highlight the parameters used for each model (if any)\n",
        "for i in range(1, 4):\n",
        "    params.loc[len(params)] = \"None\"\n",
        "for i in range(1, 4):\n",
        "    params.loc[\n",
        "        len(params)\n",
        "    ] = \"hidden_layer_sizes=100, activation='relu', learning_rate='constant'\"\n",
        "for i in range(1, 4):\n",
        "    params.loc[\n",
        "        len(params)\n",
        "    ] = \"hidden_layer_sizes=120, activation='tanh', learning_rate='invscaling'\"\n",
        "for i in range(1, 4):\n",
        "    params.loc[\n",
        "        len(params)\n",
        "    ] = \"hidden_layer_sizes=140, activation='identity', learning_rate='adaptive'\""
      ]
    },
    {
      "cell_type": "code",
      "execution_count": null,
      "metadata": {
        "id": "BDN4_pZkLwNX",
        "outputId": "b1253c8e-774a-4e82-d824-17877ade8218"
      },
      "outputs": [
        {
          "data": {
            "text/html": [
              "<div>\n",
              "<style scoped>\n",
              "    .dataframe tbody tr th:only-of-type {\n",
              "        vertical-align: middle;\n",
              "    }\n",
              "\n",
              "    .dataframe tbody tr th {\n",
              "        vertical-align: top;\n",
              "    }\n",
              "\n",
              "    .dataframe thead th {\n",
              "        text-align: right;\n",
              "    }\n",
              "</style>\n",
              "<table border=\"1\" class=\"dataframe\">\n",
              "  <thead>\n",
              "    <tr style=\"text-align: right;\">\n",
              "      <th></th>\n",
              "      <th>Model</th>\n",
              "      <th>Settings</th>\n",
              "      <th>dataset</th>\n",
              "      <th>precision_micro</th>\n",
              "      <th>precision_macro</th>\n",
              "      <th>recall_micro</th>\n",
              "      <th>recall_macro</th>\n",
              "      <th>params</th>\n",
              "    </tr>\n",
              "  </thead>\n",
              "  <tbody>\n",
              "    <tr>\n",
              "      <th>0</th>\n",
              "      <td>LR</td>\n",
              "      <td>Default</td>\n",
              "      <td>dataset</td>\n",
              "      <td>0.683393</td>\n",
              "      <td>0.622308</td>\n",
              "      <td>0.683393</td>\n",
              "      <td>0.600668</td>\n",
              "      <td>None</td>\n",
              "    </tr>\n",
              "    <tr>\n",
              "      <th>1</th>\n",
              "      <td>LR</td>\n",
              "      <td>Default</td>\n",
              "      <td>derived_dataset1</td>\n",
              "      <td>0.752627</td>\n",
              "      <td>0.666477</td>\n",
              "      <td>0.752627</td>\n",
              "      <td>0.655626</td>\n",
              "      <td>None</td>\n",
              "    </tr>\n",
              "    <tr>\n",
              "      <th>2</th>\n",
              "      <td>LR</td>\n",
              "      <td>Default</td>\n",
              "      <td>derived_dataset2</td>\n",
              "      <td>0.701792</td>\n",
              "      <td>0.629293</td>\n",
              "      <td>0.701792</td>\n",
              "      <td>0.609128</td>\n",
              "      <td>None</td>\n",
              "    </tr>\n",
              "    <tr>\n",
              "      <th>3</th>\n",
              "      <td>MLP</td>\n",
              "      <td>Default</td>\n",
              "      <td>dataset</td>\n",
              "      <td>0.697147</td>\n",
              "      <td>0.623664</td>\n",
              "      <td>0.697240</td>\n",
              "      <td>0.604627</td>\n",
              "      <td>hidden_layer_sizes=100, activation='relu', learning_rate='constant'</td>\n",
              "    </tr>\n",
              "    <tr>\n",
              "      <th>4</th>\n",
              "      <td>MLP</td>\n",
              "      <td>Default</td>\n",
              "      <td>derived_dataset1</td>\n",
              "      <td>0.726514</td>\n",
              "      <td>0.642096</td>\n",
              "      <td>0.725491</td>\n",
              "      <td>0.638241</td>\n",
              "      <td>hidden_layer_sizes=100, activation='relu', learning_rate='constant'</td>\n",
              "    </tr>\n",
              "    <tr>\n",
              "      <th>5</th>\n",
              "      <td>MLP</td>\n",
              "      <td>Default</td>\n",
              "      <td>derived_dataset2</td>\n",
              "      <td>0.686181</td>\n",
              "      <td>0.607843</td>\n",
              "      <td>0.689248</td>\n",
              "      <td>0.597967</td>\n",
              "      <td>hidden_layer_sizes=100, activation='relu', learning_rate='constant'</td>\n",
              "    </tr>\n",
              "    <tr>\n",
              "      <th>6</th>\n",
              "      <td>MLP</td>\n",
              "      <td>Custom</td>\n",
              "      <td>dataset</td>\n",
              "      <td>0.695753</td>\n",
              "      <td>0.625926</td>\n",
              "      <td>0.693430</td>\n",
              "      <td>0.606495</td>\n",
              "      <td>hidden_layer_sizes=120, activation='tanh', learning_rate='invscaling'</td>\n",
              "    </tr>\n",
              "    <tr>\n",
              "      <th>7</th>\n",
              "      <td>MLP</td>\n",
              "      <td>Custom</td>\n",
              "      <td>derived_dataset1</td>\n",
              "      <td>0.724098</td>\n",
              "      <td>0.643099</td>\n",
              "      <td>0.725120</td>\n",
              "      <td>0.638379</td>\n",
              "      <td>hidden_layer_sizes=120, activation='tanh', learning_rate='invscaling'</td>\n",
              "    </tr>\n",
              "    <tr>\n",
              "      <th>8</th>\n",
              "      <td>MLP</td>\n",
              "      <td>Custom</td>\n",
              "      <td>derived_dataset2</td>\n",
              "      <td>0.686275</td>\n",
              "      <td>0.608729</td>\n",
              "      <td>0.684322</td>\n",
              "      <td>0.597375</td>\n",
              "      <td>hidden_layer_sizes=120, activation='tanh', learning_rate='invscaling'</td>\n",
              "    </tr>\n",
              "    <tr>\n",
              "      <th>9</th>\n",
              "      <td>MLP</td>\n",
              "      <td>Custom</td>\n",
              "      <td>dataset</td>\n",
              "      <td>0.697797</td>\n",
              "      <td>0.629040</td>\n",
              "      <td>0.695660</td>\n",
              "      <td>0.607107</td>\n",
              "      <td>hidden_layer_sizes=140, activation='identity', learning_rate='adaptive'</td>\n",
              "    </tr>\n",
              "    <tr>\n",
              "      <th>10</th>\n",
              "      <td>MLP</td>\n",
              "      <td>Custom</td>\n",
              "      <td>derived_dataset1</td>\n",
              "      <td>0.725305</td>\n",
              "      <td>0.642337</td>\n",
              "      <td>0.723168</td>\n",
              "      <td>0.639583</td>\n",
              "      <td>hidden_layer_sizes=140, activation='identity', learning_rate='adaptive'</td>\n",
              "    </tr>\n",
              "    <tr>\n",
              "      <th>11</th>\n",
              "      <td>MLP</td>\n",
              "      <td>Custom</td>\n",
              "      <td>derived_dataset2</td>\n",
              "      <td>0.687947</td>\n",
              "      <td>0.608457</td>\n",
              "      <td>0.685159</td>\n",
              "      <td>0.601073</td>\n",
              "      <td>hidden_layer_sizes=140, activation='identity', learning_rate='adaptive'</td>\n",
              "    </tr>\n",
              "  </tbody>\n",
              "</table>\n",
              "</div>"
            ],
            "text/plain": [
              "   Model Settings           dataset  precision_micro  precision_macro  \\\n",
              "0     LR  Default           dataset         0.683393         0.622308   \n",
              "1     LR  Default  derived_dataset1         0.752627         0.666477   \n",
              "2     LR  Default  derived_dataset2         0.701792         0.629293   \n",
              "3    MLP  Default           dataset         0.697147         0.623664   \n",
              "4    MLP  Default  derived_dataset1         0.726514         0.642096   \n",
              "5    MLP  Default  derived_dataset2         0.686181         0.607843   \n",
              "6    MLP   Custom           dataset         0.695753         0.625926   \n",
              "7    MLP   Custom  derived_dataset1         0.724098         0.643099   \n",
              "8    MLP   Custom  derived_dataset2         0.686275         0.608729   \n",
              "9    MLP   Custom           dataset         0.697797         0.629040   \n",
              "10   MLP   Custom  derived_dataset1         0.725305         0.642337   \n",
              "11   MLP   Custom  derived_dataset2         0.687947         0.608457   \n",
              "\n",
              "    recall_micro  recall_macro  \\\n",
              "0       0.683393      0.600668   \n",
              "1       0.752627      0.655626   \n",
              "2       0.701792      0.609128   \n",
              "3       0.697240      0.604627   \n",
              "4       0.725491      0.638241   \n",
              "5       0.689248      0.597967   \n",
              "6       0.693430      0.606495   \n",
              "7       0.725120      0.638379   \n",
              "8       0.684322      0.597375   \n",
              "9       0.695660      0.607107   \n",
              "10      0.723168      0.639583   \n",
              "11      0.685159      0.601073   \n",
              "\n",
              "                                                                     params  \n",
              "0                                                                      None  \n",
              "1                                                                      None  \n",
              "2                                                                      None  \n",
              "3       hidden_layer_sizes=100, activation='relu', learning_rate='constant'  \n",
              "4       hidden_layer_sizes=100, activation='relu', learning_rate='constant'  \n",
              "5       hidden_layer_sizes=100, activation='relu', learning_rate='constant'  \n",
              "6     hidden_layer_sizes=120, activation='tanh', learning_rate='invscaling'  \n",
              "7     hidden_layer_sizes=120, activation='tanh', learning_rate='invscaling'  \n",
              "8     hidden_layer_sizes=120, activation='tanh', learning_rate='invscaling'  \n",
              "9   hidden_layer_sizes=140, activation='identity', learning_rate='adaptive'  \n",
              "10  hidden_layer_sizes=140, activation='identity', learning_rate='adaptive'  \n",
              "11  hidden_layer_sizes=140, activation='identity', learning_rate='adaptive'  "
            ]
          },
          "execution_count": 93,
          "metadata": {},
          "output_type": "execute_result"
        }
      ],
      "source": [
        "fullscores = scores.copy()\n",
        "fullscores[\"params\"] = params[\"params\"]\n",
        "fullscores.head(12)"
      ]
    },
    {
      "cell_type": "markdown",
      "metadata": {
        "id": "rPc7try5LwNX"
      },
      "source": [
        "After repeating the MLP model training with custom parameters, the resulting micro and macro values are a bit surprising. In fact, all three MLP configurations and the default LR indicate that derived_dataset1's model has the best micro and macro accuracies. On the other hand, derived_dataset2 had the lowest accuracy, even lower than the original dataset with MLP. This suggests that the inclusion of \"TIME\", \"ORG\", and \"MONEY\" entities was not effective. Perhaps selecting alternative entities may improve the scores and subsequently lead to higher precision rates. Additionally, the disparity between the macro and micro averages suggests a class imbalance.\n",
        "\n",
        "Between the nine different configurations of the MLP classifier, the one trained on the derived_dataset1, scored the best results. As mentioned before, including the named entities as features alongside POS lemmatized tokens only reduced the scores. For MLP, the model trained on the derived_dataset2 failed to even outperform the original dataset.\n",
        "\n",
        "When it comes to the different configurations of the MLP classifier, the results are a bit surprising. Normally, increasing the number of neurons in the ith hidden layer (hidden_layer_sizes) would lead to a more complex model, resulting in better micro precision and recall. However, this is not the case here. The standard MLP classifier achieved the best accuracy compared to the custom classifiers. This may also indicate that MLP is sensitive to different parameter values and more extensive testing and evaluation may be required to determine the best configuration for each dataset variation.\n",
        "Presumably, the change in the activation function and learning rate, together with the increase in the hidden_layer_sizes parameter, is the reason for the inconsistency between the classifiers. Changing each parameter at once might clarify the individual impacts.\n",
        "\n",
        "Overall, we have emphasised the importance of feature engineering demonstrated through the the precise selection of POS elements alongside the named entities. Nevertheless, certain token selections could lead to undesirable outcomes, as evidenced by derived_dataset2. To identify the most effective options, thorough evaluation and additional testing are necessary. I still remember how, at the begining of the CSI4506 course, Professor Caroline Barriere stated that training the models is a very exhaustive process and requires a lot of trying and sometimes performing random configuration experiments until a satsfactiory outcome is achieved. Even though my task involved working with a small dataset with only three parameters (MLP params), how challenging must it be to work on models like the ones used by chatGPT of Bing AI?\n",
        "\n",
        "Thank you."
      ]
    },
    {
      "cell_type": "markdown",
      "metadata": {
        "id": "89K7qf_eLwNX"
      },
      "source": [
        "# 4. References\n"
      ]
    },
    {
      "cell_type": "markdown",
      "metadata": {
        "id": "mm-KrGKbLwNX"
      },
      "source": [
        "[1] StackOverflow. \"How can I display full (non-truncated) dataframe information in HTML when converting from Pandas dataframe to HTML?\". Retrieved on December 3st 2023 from :\n",
        "https://stackoverflow.com/questions/25351968/how-can-i-display-full-non-truncated-dataframe-information-in-html-when-conver\n",
        "\n",
        "[2] Medium. \"Named Entity Recognition NER using spaCy\". Retrieved on December 1st 2023 from :\n",
        "https://towardsdatascience.com/named-entity-recognition-ner-using-spacy-nlp-part-4-28da2ece57c6\n",
        "\n",
        "[3] scikit-learn. \"sklearn.neural_network.MLPClassifier\". Retrieved on December 1st 2023 from :\n",
        "https://scikit-learn.org/stable/modules/generated/sklearn.neural_network.MLPClassifier.html\n",
        "\n",
        "[4] scikit-learn. \"Working With Text Data\". Retrieved on December 1st 2023 from :\n",
        "https://scikit-learn.org/stable/tutorial/text_analytics/working_with_text_data.html\n",
        "\n",
        "[5] scikit-learn. \"sklearn.linear_model.LogisticRegression\". Retrieved on December 1st 2023 from :\n",
        "https://scikit-learn.org/stable/modules/generated/sklearn.linear_model.LogisticRegression.html#sklearn.linear_model.LogisticRegression\n",
        "\n",
        "[6] scikit-learn. \"Cross-validation: evaluating estimator performance\". Retrieved on December 1st 2023 from :\n",
        "https://scikit-learn.org/stable/modules/cross_validation.html\n",
        "\n",
        "[7] scikit-learn. \"sklearn.model_selection.cross_val_score\". Retrieved on December 1st 2023 from :\n",
        "https://scikit-learn.org/stable/modules/generated/sklearn.model_selection.cross_val_score.html\n",
        "\n",
        "[8] StackOverflow. \"UndefinedMetricWarning: F-score is ill-defined and being set to 0.0 in labels with no predicted samples\". Retrieved on December 3st 2023 from :\n",
        "https://stackoverflow.com/questions/43162506/undefinedmetricwarning-f-score-is-ill-defined-and-being-set-to-0-0-in-labels-wi\n"
      ]
    }
  ],
  "metadata": {
    "kernelspec": {
      "display_name": "Python 3",
      "language": "python",
      "name": "python3"
    },
    "language_info": {
      "codemirror_mode": {
        "name": "ipython",
        "version": 3
      },
      "file_extension": ".py",
      "mimetype": "text/x-python",
      "name": "python",
      "nbconvert_exporter": "python",
      "pygments_lexer": "ipython3",
      "version": "3.11.5"
    },
    "colab": {
      "provenance": []
    }
  },
  "nbformat": 4,
  "nbformat_minor": 0
}
